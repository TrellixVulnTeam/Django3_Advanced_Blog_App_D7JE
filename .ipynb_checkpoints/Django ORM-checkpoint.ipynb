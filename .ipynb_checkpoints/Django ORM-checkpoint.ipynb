{
 "cells": [
  {
   "cell_type": "code",
   "execution_count": 33,
   "id": "45a668d4",
   "metadata": {},
   "outputs": [],
   "source": [
    "from django.contrib.auth.models import User\n",
    "from blog.models import Post"
   ]
  },
  {
   "cell_type": "code",
   "execution_count": 11,
   "id": "c7fc7bf1",
   "metadata": {},
   "outputs": [
    {
     "data": {
      "text/plain": [
       "<User: tejas>"
      ]
     },
     "execution_count": 11,
     "metadata": {},
     "output_type": "execute_result"
    }
   ],
   "source": [
    "user = User.objects.get(id=1)"
   ]
  },
  {
   "cell_type": "markdown",
   "id": "7d7090c7",
   "metadata": {},
   "source": [
    "### Adding data in database"
   ]
  },
  {
   "cell_type": "code",
   "execution_count": 30,
   "id": "3db1544b",
   "metadata": {},
   "outputs": [],
   "source": [
    "post = Post(title='Django Forms',slug='django-forms',body='this is our admin django forms.',author=user)"
   ]
  },
  {
   "cell_type": "code",
   "execution_count": 31,
   "id": "b1caffa1",
   "metadata": {},
   "outputs": [],
   "source": [
    "post.save()"
   ]
  },
  {
   "cell_type": "markdown",
   "id": "3de9d668",
   "metadata": {},
   "source": [
    "### create( ) method"
   ]
  },
  {
   "cell_type": "code",
   "execution_count": 32,
   "id": "2fc848ac",
   "metadata": {},
   "outputs": [
    {
     "data": {
      "text/plain": [
       "<Post: One more post>"
      ]
     },
     "execution_count": 32,
     "metadata": {},
     "output_type": "execute_result"
    }
   ],
   "source": [
    "Post.objects.create(title='One more post',slug='one-more-post',body='Post body.',author=user)"
   ]
  },
  {
   "cell_type": "raw",
   "id": "0a054eab",
   "metadata": {},
   "source": [
    "Django orm many methods for editing likes\n",
    "filter() \n",
    "exlude() \n",
    "order_by()\n",
    "delete()"
   ]
  },
  {
   "cell_type": "code",
   "execution_count": 34,
   "id": "51fcbf2a",
   "metadata": {},
   "outputs": [
    {
     "ename": "AttributeError",
     "evalue": "type object 'Post' has no attribute 'published'",
     "output_type": "error",
     "traceback": [
      "\u001b[0;31m-----------------------------------------------------------------\u001b[0m",
      "\u001b[0;31mAttributeError\u001b[0m                  Traceback (most recent call last)",
      "\u001b[0;32m<ipython-input-34-8a4ed7b043ba>\u001b[0m in \u001b[0;36m<module>\u001b[0;34m\u001b[0m\n\u001b[0;32m----> 1\u001b[0;31m \u001b[0mPost\u001b[0m\u001b[0;34m.\u001b[0m\u001b[0mpublished\u001b[0m\u001b[0;34m.\u001b[0m\u001b[0mall\u001b[0m\u001b[0;34m(\u001b[0m\u001b[0;34m)\u001b[0m\u001b[0;34m\u001b[0m\u001b[0;34m\u001b[0m\u001b[0m\n\u001b[0m",
      "\u001b[0;31mAttributeError\u001b[0m: type object 'Post' has no attribute 'published'"
     ]
    }
   ],
   "source": [
    "Post.published.all()"
   ]
  },
  {
   "cell_type": "code",
   "execution_count": null,
   "id": "62623a4f",
   "metadata": {},
   "outputs": [],
   "source": []
  }
 ],
 "metadata": {
  "kernelspec": {
   "display_name": "Django Shell-Plus",
   "language": "python",
   "name": "django_extensions"
  },
  "language_info": {
   "codemirror_mode": {
    "name": "ipython",
    "version": 3
   },
   "file_extension": ".py",
   "mimetype": "text/x-python",
   "name": "python",
   "nbconvert_exporter": "python",
   "pygments_lexer": "ipython3",
   "version": "3.9.5"
  }
 },
 "nbformat": 4,
 "nbformat_minor": 5
}
