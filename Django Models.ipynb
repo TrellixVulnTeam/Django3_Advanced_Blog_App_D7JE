{
 "cells": [
  {
   "cell_type": "code",
   "execution_count": 1,
   "id": "28b60edd",
   "metadata": {},
   "outputs": [],
   "source": [
    "from blog.models import Post,Comment\n",
    "from django.shortcuts import get_object_or_404"
   ]
  },
  {
   "cell_type": "code",
   "execution_count": 4,
   "id": "8450e1b0",
   "metadata": {},
   "outputs": [],
   "source": [
    "post = get_object_or_404(Post,id=1,status = 'published')"
   ]
  },
  {
   "cell_type": "code",
   "execution_count": 5,
   "id": "e938744b",
   "metadata": {},
   "outputs": [
    {
     "data": {
      "text/plain": [
       "<Post: Django Models>"
      ]
     },
     "execution_count": 5,
     "metadata": {},
     "output_type": "execute_result"
    }
   ],
   "source": [
    "post"
   ]
  },
  {
   "cell_type": "code",
   "execution_count": 6,
   "id": "7b8b65d5",
   "metadata": {},
   "outputs": [],
   "source": [
    "comments = post.comments.filter(active=True)"
   ]
  },
  {
   "cell_type": "code",
   "execution_count": 7,
   "id": "65a37da2",
   "metadata": {},
   "outputs": [
    {
     "data": {
      "text/plain": [
       "<QuerySet [<Comment: Comment by Tejas Lade on Django Models>]>"
      ]
     },
     "execution_count": 7,
     "metadata": {},
     "output_type": "execute_result"
    }
   ],
   "source": [
    "comments"
   ]
  },
  {
   "cell_type": "code",
   "execution_count": 8,
   "id": "a37e2fb3",
   "metadata": {},
   "outputs": [],
   "source": [
    "new_comment = None"
   ]
  },
  {
   "cell_type": "code",
   "execution_count": 9,
   "id": "9966874c",
   "metadata": {},
   "outputs": [],
   "source": [
    "comment_Add = Comment.objects.create(post=post,name='Hello jupyter',email='tejaslade89@gmail.com',body='Hello i am jupyter notebook')"
   ]
  },
  {
   "cell_type": "code",
   "execution_count": 10,
   "id": "9d72f5c0",
   "metadata": {},
   "outputs": [
    {
     "data": {
      "text/plain": [
       "<Comment: Comment by Hello jupyter on Django Models>"
      ]
     },
     "execution_count": 10,
     "metadata": {},
     "output_type": "execute_result"
    }
   ],
   "source": [
    "comment_Add"
   ]
  },
  {
   "cell_type": "code",
   "execution_count": 17,
   "id": "5c931d5e",
   "metadata": {},
   "outputs": [
    {
     "data": {
      "text/plain": [
       "<QuerySet [<Comment: Comment by Tejas Lade on Django Models>, <Comment: Comment by Hello jupyter on Django Models>, <Comment: Comment by new on Django Models>]>"
      ]
     },
     "execution_count": 17,
     "metadata": {},
     "output_type": "execute_result"
    }
   ],
   "source": [
    "Comment.objects.all()"
   ]
  },
  {
   "cell_type": "code",
   "execution_count": 12,
   "id": "c49458dc",
   "metadata": {},
   "outputs": [],
   "source": [
    "comment_add = Comment(name='new',email='new@gmail.com',body='Hello new')"
   ]
  },
  {
   "cell_type": "code",
   "execution_count": 15,
   "id": "df9edf76",
   "metadata": {},
   "outputs": [],
   "source": [
    "comment_add.post = post"
   ]
  },
  {
   "cell_type": "code",
   "execution_count": 16,
   "id": "f1c6821d",
   "metadata": {},
   "outputs": [],
   "source": [
    "comment_add.save()"
   ]
  },
  {
   "cell_type": "code",
   "execution_count": 18,
   "id": "9cbfddfd",
   "metadata": {},
   "outputs": [
    {
     "data": {
      "text/plain": [
       "'Django-models'"
      ]
     },
     "execution_count": 18,
     "metadata": {},
     "output_type": "execute_result"
    }
   ],
   "source": [
    "post.slug"
   ]
  },
  {
   "cell_type": "markdown",
   "id": "e9b60b8f",
   "metadata": {},
   "source": [
    "## Tags "
   ]
  },
  {
   "cell_type": "code",
   "execution_count": 2,
   "id": "42147ea5",
   "metadata": {},
   "outputs": [],
   "source": [
    "from blog.models import Post"
   ]
  },
  {
   "cell_type": "code",
   "execution_count": 18,
   "id": "d29b07c6",
   "metadata": {},
   "outputs": [],
   "source": [
    "post = Post.objects.get(id=1)"
   ]
  },
  {
   "cell_type": "code",
   "execution_count": 19,
   "id": "5102fd70",
   "metadata": {},
   "outputs": [],
   "source": [
    "post.tags.add('music','jazz','django')"
   ]
  },
  {
   "cell_type": "code",
   "execution_count": 20,
   "id": "37978d00",
   "metadata": {},
   "outputs": [
    {
     "data": {
      "text/plain": [
       "<QuerySet [<Tag: django>, <Tag: jazz>, <Tag: music>]>"
      ]
     },
     "execution_count": 20,
     "metadata": {},
     "output_type": "execute_result"
    }
   ],
   "source": [
    "post.tags.all()"
   ]
  },
  {
   "cell_type": "code",
   "execution_count": 21,
   "id": "02d1614b",
   "metadata": {},
   "outputs": [],
   "source": [
    "post.tags.remove('music')"
   ]
  },
  {
   "cell_type": "code",
   "execution_count": 22,
   "id": "b65640b5",
   "metadata": {},
   "outputs": [
    {
     "data": {
      "text/plain": [
       "<QuerySet [<Tag: django>, <Tag: jazz>]>"
      ]
     },
     "execution_count": 22,
     "metadata": {},
     "output_type": "execute_result"
    }
   ],
   "source": [
    "post.tags.all()"
   ]
  },
  {
   "cell_type": "code",
   "execution_count": 2,
   "id": "659a0217",
   "metadata": {},
   "outputs": [],
   "source": [
    "from blog.models import Post"
   ]
  },
  {
   "cell_type": "code",
   "execution_count": null,
   "id": "8c161100",
   "metadata": {},
   "outputs": [],
   "source": []
  }
 ],
 "metadata": {
  "kernelspec": {
   "display_name": "Django Shell-Plus",
   "language": "python",
   "name": "django_extensions"
  },
  "language_info": {
   "codemirror_mode": {
    "name": "ipython",
    "version": 3
   },
   "file_extension": ".py",
   "mimetype": "text/x-python",
   "name": "python",
   "nbconvert_exporter": "python",
   "pygments_lexer": "ipython3",
   "version": "3.9.5"
  }
 },
 "nbformat": 4,
 "nbformat_minor": 5
}