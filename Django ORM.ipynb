{
 "cells": [
  {
   "cell_type": "code",
   "execution_count": 1,
   "id": "45a668d4",
   "metadata": {},
   "outputs": [],
   "source": [
    "from django.contrib.auth.models import User\n",
    "from blog.models import Post"
   ]
  },
  {
   "cell_type": "code",
   "execution_count": 2,
   "id": "c7fc7bf1",
   "metadata": {},
   "outputs": [],
   "source": [
    "user = User.objects.get(id=1)"
   ]
  },
  {
   "cell_type": "markdown",
   "id": "7d7090c7",
   "metadata": {},
   "source": [
    "### Adding data in database"
   ]
  },
  {
   "cell_type": "code",
   "execution_count": 3,
   "id": "3db1544b",
   "metadata": {},
   "outputs": [],
   "source": [
    "post = Post(title='Django Forms',slug='django-forms',body='this is our admin django forms.',author=user)"
   ]
  },
  {
   "cell_type": "code",
   "execution_count": 4,
   "id": "b1caffa1",
   "metadata": {},
   "outputs": [],
   "source": [
    "post.save()"
   ]
  },
  {
   "cell_type": "markdown",
   "id": "3de9d668",
   "metadata": {},
   "source": [
    "### create( ) method"
   ]
  },
  {
   "cell_type": "code",
   "execution_count": 5,
   "id": "2fc848ac",
   "metadata": {},
   "outputs": [
    {
     "data": {
      "text/plain": [
       "<Post: One more post>"
      ]
     },
     "execution_count": 5,
     "metadata": {},
     "output_type": "execute_result"
    }
   ],
   "source": [
    "Post.objects.create(title='One more post',slug='one-more-post',body='Post body.',author=user)"
   ]
  },
  {
   "cell_type": "raw",
   "id": "0a054eab",
   "metadata": {},
   "source": [
    "Django orm many methods for editing likes\n",
    "filter() \n",
    "exlude() \n",
    "order_by()\n",
    "delete()"
   ]
  },
  {
   "cell_type": "code",
   "execution_count": 6,
   "id": "51fcbf2a",
   "metadata": {},
   "outputs": [
    {
     "data": {
      "text/plain": [
       "<QuerySet [<Post: Django-views-new>, <Post: Django Models>]>"
      ]
     },
     "execution_count": 6,
     "metadata": {},
     "output_type": "execute_result"
    }
   ],
   "source": [
    "Post.published.all()"
   ]
  },
  {
   "cell_type": "markdown",
   "id": "e524e0c5",
   "metadata": {},
   "source": [
    "# Paginator"
   ]
  },
  {
   "cell_type": "code",
   "execution_count": 48,
   "id": "36241f16",
   "metadata": {},
   "outputs": [],
   "source": [
    "from django.core.paginator import Paginator"
   ]
  },
  {
   "cell_type": "code",
   "execution_count": 52,
   "id": "f7385e32",
   "metadata": {},
   "outputs": [],
   "source": [
    "objects = ['tejas','sky','aryan','harshal','marshal']"
   ]
  },
  {
   "cell_type": "code",
   "execution_count": 53,
   "id": "8bd8db5f",
   "metadata": {},
   "outputs": [],
   "source": [
    "p = Paginator(objects , 2)"
   ]
  },
  {
   "cell_type": "code",
   "execution_count": 54,
   "id": "5bde7aec",
   "metadata": {},
   "outputs": [
    {
     "data": {
      "text/plain": [
       "5"
      ]
     },
     "execution_count": 54,
     "metadata": {},
     "output_type": "execute_result"
    }
   ],
   "source": [
    "p.count"
   ]
  },
  {
   "cell_type": "code",
   "execution_count": 55,
   "id": "064f219e",
   "metadata": {},
   "outputs": [
    {
     "data": {
      "text/plain": [
       "3"
      ]
     },
     "execution_count": 55,
     "metadata": {},
     "output_type": "execute_result"
    }
   ],
   "source": [
    "p.num_pages"
   ]
  },
  {
   "cell_type": "code",
   "execution_count": 56,
   "id": "342070ac",
   "metadata": {},
   "outputs": [
    {
     "data": {
      "text/plain": [
       "range(1, 4)"
      ]
     },
     "execution_count": 56,
     "metadata": {},
     "output_type": "execute_result"
    }
   ],
   "source": [
    "p.page_range"
   ]
  },
  {
   "cell_type": "code",
   "execution_count": 69,
   "id": "ec7f4a79",
   "metadata": {},
   "outputs": [
    {
     "name": "stdout",
     "output_type": "stream",
     "text": [
      "<Page 1 of 3>\n"
     ]
    },
    {
     "data": {
      "text/plain": [
       "['tejas', 'sky']"
      ]
     },
     "execution_count": 69,
     "metadata": {},
     "output_type": "execute_result"
    }
   ],
   "source": [
    "page1 = p.page(1)\n",
    "print(page1)\n",
    "page1.object_list"
   ]
  },
  {
   "cell_type": "code",
   "execution_count": 70,
   "id": "a2e64c17",
   "metadata": {},
   "outputs": [
    {
     "name": "stdout",
     "output_type": "stream",
     "text": [
      "<Page 2 of 3>\n"
     ]
    },
    {
     "data": {
      "text/plain": [
       "['aryan', 'harshal']"
      ]
     },
     "execution_count": 70,
     "metadata": {},
     "output_type": "execute_result"
    }
   ],
   "source": [
    "page2 = p.page(2)\n",
    "print(page2)\n",
    "page2.object_list"
   ]
  },
  {
   "cell_type": "code",
   "execution_count": 71,
   "id": "dee94bba",
   "metadata": {},
   "outputs": [
    {
     "name": "stdout",
     "output_type": "stream",
     "text": [
      "<Page 3 of 3>\n"
     ]
    },
    {
     "data": {
      "text/plain": [
       "['marshal']"
      ]
     },
     "execution_count": 71,
     "metadata": {},
     "output_type": "execute_result"
    }
   ],
   "source": [
    "page3 = p.page(3)\n",
    "print(page3)\n",
    "page3.object_list"
   ]
  },
  {
   "cell_type": "code",
   "execution_count": 73,
   "id": "ec7d03cd",
   "metadata": {},
   "outputs": [
    {
     "data": {
      "text/plain": [
       "True"
      ]
     },
     "execution_count": 73,
     "metadata": {},
     "output_type": "execute_result"
    }
   ],
   "source": [
    "page1.has_next()"
   ]
  },
  {
   "cell_type": "code",
   "execution_count": 75,
   "id": "0cb2dbf2",
   "metadata": {},
   "outputs": [
    {
     "data": {
      "text/plain": [
       "False"
      ]
     },
     "execution_count": 75,
     "metadata": {},
     "output_type": "execute_result"
    }
   ],
   "source": [
    "page1.has_previous()"
   ]
  },
  {
   "cell_type": "code",
   "execution_count": 77,
   "id": "5864605b",
   "metadata": {},
   "outputs": [
    {
     "data": {
      "text/plain": [
       "True"
      ]
     },
     "execution_count": 77,
     "metadata": {},
     "output_type": "execute_result"
    }
   ],
   "source": [
    "page2.has_other_pages()"
   ]
  },
  {
   "cell_type": "code",
   "execution_count": 78,
   "id": "abefa075",
   "metadata": {},
   "outputs": [
    {
     "data": {
      "text/plain": [
       "True"
      ]
     },
     "execution_count": 78,
     "metadata": {},
     "output_type": "execute_result"
    }
   ],
   "source": [
    "page2.has_next()"
   ]
  },
  {
   "cell_type": "code",
   "execution_count": 80,
   "id": "f065df63",
   "metadata": {},
   "outputs": [
    {
     "data": {
      "text/plain": [
       "1"
      ]
     },
     "execution_count": 80,
     "metadata": {},
     "output_type": "execute_result"
    }
   ],
   "source": [
    "page2.previous_page_number()"
   ]
  },
  {
   "cell_type": "code",
   "execution_count": 81,
   "id": "84ba2e45",
   "metadata": {},
   "outputs": [
    {
     "data": {
      "text/plain": [
       "3"
      ]
     },
     "execution_count": 81,
     "metadata": {},
     "output_type": "execute_result"
    }
   ],
   "source": [
    "page2.next_page_number()"
   ]
  },
  {
   "cell_type": "code",
   "execution_count": 2,
   "id": "fbbc6cdc",
   "metadata": {},
   "outputs": [],
   "source": [
    "from blog.models import Post,Comment"
   ]
  },
  {
   "cell_type": "code",
   "execution_count": 4,
   "id": "673e06c2",
   "metadata": {},
   "outputs": [
    {
     "data": {
      "text/plain": [
       "<QuerySet [<Comment: Comment by Tejas Lade on Django Models>]>"
      ]
     },
     "execution_count": 4,
     "metadata": {},
     "output_type": "execute_result"
    }
   ],
   "source": [
    "Comment.objects.all()"
   ]
  },
  {
   "cell_type": "code",
   "execution_count": 5,
   "id": "b3942f4d",
   "metadata": {},
   "outputs": [],
   "source": [
    "objects = ('object1','object2','object3','object4',)\n"
   ]
  },
  {
   "cell_type": "code",
   "execution_count": 7,
   "id": "31b683ab",
   "metadata": {},
   "outputs": [],
   "source": [
    "post = Post.objects.filter(status='published')"
   ]
  },
  {
   "cell_type": "code",
   "execution_count": 8,
   "id": "4c41cab0",
   "metadata": {},
   "outputs": [
    {
     "data": {
      "text/plain": [
       "<QuerySet [<Post: One more post>, <Post: Django Forms>, <Post: One more post>, <Post: Django Forms>, <Post: Django-views-new>, <Post: Django Models>]>"
      ]
     },
     "execution_count": 8,
     "metadata": {},
     "output_type": "execute_result"
    }
   ],
   "source": [
    "post"
   ]
  },
  {
   "cell_type": "code",
   "execution_count": null,
   "id": "42f7579c",
   "metadata": {},
   "outputs": [],
   "source": []
  }
 ],
 "metadata": {
  "kernelspec": {
   "display_name": "Django Shell-Plus",
   "language": "python",
   "name": "django_extensions"
  },
  "language_info": {
   "codemirror_mode": {
    "name": "ipython",
    "version": 3
   },
   "file_extension": ".py",
   "mimetype": "text/x-python",
   "name": "python",
   "nbconvert_exporter": "python",
   "pygments_lexer": "ipython3",
   "version": "3.9.5"
  }
 },
 "nbformat": 4,
 "nbformat_minor": 5
}